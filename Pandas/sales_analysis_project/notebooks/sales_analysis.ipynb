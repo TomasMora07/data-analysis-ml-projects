{
 "cells": [
  {
   "cell_type": "code",
   "execution_count": 15,
   "id": "0bca8719-9f61-4306-8365-40b70340e2d2",
   "metadata": {},
   "outputs": [],
   "source": [
    "import pandas as pd\n",
    "import os"
   ]
  },
  {
   "cell_type": "code",
   "execution_count": 33,
   "id": "245f4bb6-8212-4085-96cf-6a64a7cf7f8a",
   "metadata": {},
   "outputs": [],
   "source": [
    "# Define file paths\n",
    "data_path = \"../data/raw/\"\n",
    "file_store1 = os.path.join(data_path, \"Store_Sales_Data.csv\")\n",
    "file_store2 = os.path.join(data_path, \"Store_Sales_Data2.csv\")"
   ]
  },
  {
   "cell_type": "code",
   "execution_count": 34,
   "id": "138fd7d3-3b95-4b6d-a649-d49363b461c7",
   "metadata": {},
   "outputs": [],
   "source": [
    "# Load both CSVs\n",
    "df_store1 = pd.read_csv(file_store1)\n",
    "df_store2 = pd.read_csv(file_store2)"
   ]
  },
  {
   "cell_type": "code",
   "execution_count": 35,
   "id": "7dbc715c-0106-4459-b5ba-321f4a36d97b",
   "metadata": {},
   "outputs": [
    {
     "name": "stdout",
     "output_type": "stream",
     "text": [
      "Datasets loaded successfully\n",
      "Store 1 shape: (1000, 5) | Store 2 shape: (50, 5)\n"
     ]
    }
   ],
   "source": [
    "# Display basic info\n",
    "print(\"Datasets loaded successfully\")\n",
    "print(\"Store 1 shape:\", df_store1.shape, \"| Store 2 shape:\", df_store2.shape)"
   ]
  },
  {
   "cell_type": "code",
   "execution_count": 37,
   "id": "af000b13-3e0e-4e47-b414-4251c5ff4a98",
   "metadata": {},
   "outputs": [
    {
     "data": {
      "text/html": [
       "<div>\n",
       "<style scoped>\n",
       "    .dataframe tbody tr th:only-of-type {\n",
       "        vertical-align: middle;\n",
       "    }\n",
       "\n",
       "    .dataframe tbody tr th {\n",
       "        vertical-align: top;\n",
       "    }\n",
       "\n",
       "    .dataframe thead th {\n",
       "        text-align: right;\n",
       "    }\n",
       "</style>\n",
       "<table border=\"1\" class=\"dataframe\">\n",
       "  <thead>\n",
       "    <tr style=\"text-align: right;\">\n",
       "      <th></th>\n",
       "      <th>Fecha</th>\n",
       "      <th>Producto</th>\n",
       "      <th>Cantidad</th>\n",
       "      <th>Precio Unitario</th>\n",
       "      <th>Total Venta</th>\n",
       "    </tr>\n",
       "  </thead>\n",
       "  <tbody>\n",
       "    <tr>\n",
       "      <th>0</th>\n",
       "      <td>1/17/2023</td>\n",
       "      <td>Electrónic</td>\n",
       "      <td>7</td>\n",
       "      <td>200</td>\n",
       "      <td>1400</td>\n",
       "    </tr>\n",
       "    <tr>\n",
       "      <th>1</th>\n",
       "      <td>9/1/2023</td>\n",
       "      <td>Electrónic</td>\n",
       "      <td>8</td>\n",
       "      <td>200</td>\n",
       "      <td>1600</td>\n",
       "    </tr>\n",
       "    <tr>\n",
       "      <th>2</th>\n",
       "      <td>7/29/2023</td>\n",
       "      <td>Juguetes</td>\n",
       "      <td>3</td>\n",
       "      <td>30</td>\n",
       "      <td>90</td>\n",
       "    </tr>\n",
       "    <tr>\n",
       "      <th>3</th>\n",
       "      <td>10/4/2023</td>\n",
       "      <td>Alimentos</td>\n",
       "      <td>4</td>\n",
       "      <td>10</td>\n",
       "      <td>40</td>\n",
       "    </tr>\n",
       "    <tr>\n",
       "      <th>4</th>\n",
       "      <td>2/28/2023</td>\n",
       "      <td>Electrónic</td>\n",
       "      <td>6</td>\n",
       "      <td>200</td>\n",
       "      <td>1200</td>\n",
       "    </tr>\n",
       "  </tbody>\n",
       "</table>\n",
       "</div>"
      ],
      "text/plain": [
       "       Fecha    Producto  Cantidad  Precio Unitario  Total Venta\n",
       "0  1/17/2023  Electrónic         7              200         1400\n",
       "1   9/1/2023  Electrónic         8              200         1600\n",
       "2  7/29/2023    Juguetes         3               30           90\n",
       "3  10/4/2023   Alimentos         4               10           40\n",
       "4  2/28/2023  Electrónic         6              200         1200"
      ]
     },
     "execution_count": 37,
     "metadata": {},
     "output_type": "execute_result"
    }
   ],
   "source": [
    "# Preview the first few rows\n",
    "df_store1.head()"
   ]
  },
  {
   "cell_type": "code",
   "execution_count": 36,
   "id": "74f1ef25-ff2f-47aa-8bbc-5cb41f4c8d83",
   "metadata": {},
   "outputs": [],
   "source": [
    "# TRANSFORM: Standardize, clean, and merge both datasets"
   ]
  },
  {
   "cell_type": "code",
   "execution_count": 38,
   "id": "2fb06705-b341-4026-a23d-160f27377762",
   "metadata": {},
   "outputs": [],
   "source": [
    "# Standardize column names\n",
    "df_store1.columns = df_store1.columns.str.strip().str.lower().str.replace(' ', '_')\n",
    "df_store2.columns = df_store2.columns.str.strip().str.lower().str.replace(' ', '_')"
   ]
  },
  {
   "cell_type": "code",
   "execution_count": 39,
   "id": "fb758b01-64f1-485c-8053-237c55f68669",
   "metadata": {},
   "outputs": [],
   "source": [
    "# Add store identifier\n",
    "df_store1['store'] = 'Store_1'\n",
    "df_store2['store'] = 'Store_2'"
   ]
  },
  {
   "cell_type": "code",
   "execution_count": 40,
   "id": "00aa6fab-4d03-4e56-9666-8fd50ca28fbb",
   "metadata": {},
   "outputs": [],
   "source": [
    "# Merge datasets vertically\n",
    "df_sales = pd.concat([df_store1, df_store2], ignore_index=True)"
   ]
  },
  {
   "cell_type": "code",
   "execution_count": 41,
   "id": "0dd39e7d-c478-4586-9d95-b0f10acb553d",
   "metadata": {},
   "outputs": [
    {
     "name": "stdout",
     "output_type": "stream",
     "text": [
      "Combined dataset: (1050, 6)\n"
     ]
    },
    {
     "data": {
      "text/html": [
       "<div>\n",
       "<style scoped>\n",
       "    .dataframe tbody tr th:only-of-type {\n",
       "        vertical-align: middle;\n",
       "    }\n",
       "\n",
       "    .dataframe tbody tr th {\n",
       "        vertical-align: top;\n",
       "    }\n",
       "\n",
       "    .dataframe thead th {\n",
       "        text-align: right;\n",
       "    }\n",
       "</style>\n",
       "<table border=\"1\" class=\"dataframe\">\n",
       "  <thead>\n",
       "    <tr style=\"text-align: right;\">\n",
       "      <th></th>\n",
       "      <th>fecha</th>\n",
       "      <th>producto</th>\n",
       "      <th>cantidad</th>\n",
       "      <th>precio_unitario</th>\n",
       "      <th>total_venta</th>\n",
       "      <th>store</th>\n",
       "    </tr>\n",
       "  </thead>\n",
       "  <tbody>\n",
       "    <tr>\n",
       "      <th>0</th>\n",
       "      <td>1/17/2023</td>\n",
       "      <td>Electrónic</td>\n",
       "      <td>7</td>\n",
       "      <td>200</td>\n",
       "      <td>1400</td>\n",
       "      <td>Store_1</td>\n",
       "    </tr>\n",
       "    <tr>\n",
       "      <th>1</th>\n",
       "      <td>9/1/2023</td>\n",
       "      <td>Electrónic</td>\n",
       "      <td>8</td>\n",
       "      <td>200</td>\n",
       "      <td>1600</td>\n",
       "      <td>Store_1</td>\n",
       "    </tr>\n",
       "    <tr>\n",
       "      <th>2</th>\n",
       "      <td>7/29/2023</td>\n",
       "      <td>Juguetes</td>\n",
       "      <td>3</td>\n",
       "      <td>30</td>\n",
       "      <td>90</td>\n",
       "      <td>Store_1</td>\n",
       "    </tr>\n",
       "    <tr>\n",
       "      <th>3</th>\n",
       "      <td>10/4/2023</td>\n",
       "      <td>Alimentos</td>\n",
       "      <td>4</td>\n",
       "      <td>10</td>\n",
       "      <td>40</td>\n",
       "      <td>Store_1</td>\n",
       "    </tr>\n",
       "    <tr>\n",
       "      <th>4</th>\n",
       "      <td>2/28/2023</td>\n",
       "      <td>Electrónic</td>\n",
       "      <td>6</td>\n",
       "      <td>200</td>\n",
       "      <td>1200</td>\n",
       "      <td>Store_1</td>\n",
       "    </tr>\n",
       "  </tbody>\n",
       "</table>\n",
       "</div>"
      ],
      "text/plain": [
       "       fecha    producto  cantidad  precio_unitario  total_venta    store\n",
       "0  1/17/2023  Electrónic         7              200         1400  Store_1\n",
       "1   9/1/2023  Electrónic         8              200         1600  Store_1\n",
       "2  7/29/2023    Juguetes         3               30           90  Store_1\n",
       "3  10/4/2023   Alimentos         4               10           40  Store_1\n",
       "4  2/28/2023  Electrónic         6              200         1200  Store_1"
      ]
     },
     "execution_count": 41,
     "metadata": {},
     "output_type": "execute_result"
    }
   ],
   "source": [
    "print(\"Combined dataset:\", df_sales.shape)\n",
    "df_sales.head()"
   ]
  },
  {
   "cell_type": "code",
   "execution_count": 42,
   "id": "3506f783-3c0c-4c32-be26-f9e98a584b0b",
   "metadata": {},
   "outputs": [],
   "source": [
    "# CLEANING: Handle nulls, duplicates, and inconsistent values"
   ]
  },
  {
   "cell_type": "code",
   "execution_count": 43,
   "id": "837787bb-3437-45b5-b17d-4b60c3b7c0ea",
   "metadata": {},
   "outputs": [
    {
     "data": {
      "text/plain": [
       "fecha              datetime64[ns]\n",
       "producto                   object\n",
       "cantidad                    int64\n",
       "precio_unitario             int64\n",
       "total_venta                 int64\n",
       "store                      object\n",
       "dtype: object"
      ]
     },
     "execution_count": 43,
     "metadata": {},
     "output_type": "execute_result"
    }
   ],
   "source": [
    "df.dtypes"
   ]
  },
  {
   "cell_type": "code",
   "execution_count": 44,
   "id": "eafbd7c5-650f-419e-ada4-28ba9b86a954",
   "metadata": {},
   "outputs": [],
   "source": [
    "# Convert date column\n",
    "df_sales['fecha'] = pd.to_datetime(df_sales['fecha'], errors='coerce')"
   ]
  },
  {
   "cell_type": "code",
   "execution_count": 45,
   "id": "e65a992c-ec6f-4344-b501-5ab58845df2d",
   "metadata": {},
   "outputs": [
    {
     "name": "stdout",
     "output_type": "stream",
     "text": [
      "Missing values:\n",
      " fecha              0\n",
      "producto           0\n",
      "cantidad           0\n",
      "precio_unitario    0\n",
      "total_venta        0\n",
      "store              0\n",
      "dtype: int64\n"
     ]
    }
   ],
   "source": [
    "# Check for missing values\n",
    "print(\"Missing values:\\n\", df.isnull().sum())"
   ]
  },
  {
   "cell_type": "code",
   "execution_count": 46,
   "id": "f29abe05-e0b9-48c8-bf39-37d16732a8bd",
   "metadata": {},
   "outputs": [],
   "source": [
    "# Remove duplicates\n",
    "df_sales.drop_duplicates(inplace=True)"
   ]
  },
  {
   "cell_type": "code",
   "execution_count": 47,
   "id": "6f5a40b8-722e-4078-9c2f-87442c0af872",
   "metadata": {},
   "outputs": [],
   "source": [
    "# Convert numeric columns\n",
    "df_sales['cantidad'] = pd.to_numeric(df_sales['cantidad'], errors='coerce')\n",
    "df_sales['precio_unitario'] = pd.to_numeric(df_sales['precio_unitario'], errors='coerce')"
   ]
  },
  {
   "cell_type": "code",
   "execution_count": 48,
   "id": "e81ae10a-23a9-4371-b684-d93adba6d788",
   "metadata": {},
   "outputs": [],
   "source": [
    "# Recalculate total sales for consistency\n",
    "df_sales['total_venta'] = df_sales['cantidad'] * df_sales['precio_unitario']"
   ]
  },
  {
   "cell_type": "code",
   "execution_count": 49,
   "id": "fda3e11f-e413-4520-b8ac-6e7e3e093e11",
   "metadata": {},
   "outputs": [],
   "source": [
    "# VALIDATION: Check for anomalies and invalid values"
   ]
  },
  {
   "cell_type": "code",
   "execution_count": 50,
   "id": "d5d0a9bd-ae94-4e34-b8aa-843a10b8fc1e",
   "metadata": {},
   "outputs": [
    {
     "name": "stdout",
     "output_type": "stream",
     "text": [
      "Invalid records: 0\n"
     ]
    }
   ],
   "source": [
    "# Identify negative or zero quantities/prices\n",
    "invalid_rows = df_sales[(df_sales['cantidad'] <= 0) | (df_sales['precio_unitario'] <= 0)]\n",
    "print(f\"Invalid records: {invalid_rows.shape[0]}\")"
   ]
  },
  {
   "cell_type": "code",
   "execution_count": 51,
   "id": "a9f011b9-4821-4374-8f68-c6d0d547757c",
   "metadata": {},
   "outputs": [],
   "source": [
    "# Remove invalid rows\n",
    "df_sales = df_sales[(df_sales['cantidad'] > 0) & (df_sales['precio_unitario'] > 0)]"
   ]
  },
  {
   "cell_type": "code",
   "execution_count": 52,
   "id": "3d6829b7-e5f5-4c05-946e-fd597976d029",
   "metadata": {},
   "outputs": [
    {
     "name": "stdout",
     "output_type": "stream",
     "text": [
      "Date range: 2023-01-01 00:00:00 → 2023-12-31 00:00:00\n"
     ]
    }
   ],
   "source": [
    "# Display date range for sanity check\n",
    "print(\"Date range:\", df_sales['fecha'].min(), \"→\", df_sales['fecha'].max())"
   ]
  },
  {
   "cell_type": "code",
   "execution_count": 53,
   "id": "fd131d9a-adb5-40e2-b180-cdf2a7358f54",
   "metadata": {},
   "outputs": [],
   "source": [
    "# TRANSFORMATION: Generate key metrics and summary tables"
   ]
  },
  {
   "cell_type": "code",
   "execution_count": 54,
   "id": "ec4cb240-f9b1-4555-9f33-fdf5ab1ad602",
   "metadata": {},
   "outputs": [],
   "source": [
    "# Extract month and year\n",
    "df_sales['year'] = df_sales['fecha'].dt.year\n",
    "df_sales['month'] = df_sales['fecha'].dt.month_name()"
   ]
  },
  {
   "cell_type": "code",
   "execution_count": 55,
   "id": "74c8165b-3974-4ea7-8232-8cde18f261b3",
   "metadata": {},
   "outputs": [],
   "source": [
    "# Monthly sales by store\n",
    "monthly_sales = df_sales.groupby(['year', 'month', 'store'])['total_venta'].sum().reset_index()"
   ]
  },
  {
   "cell_type": "code",
   "execution_count": 56,
   "id": "cec6b79e-3d77-4876-974d-9af4cc1eeea1",
   "metadata": {},
   "outputs": [],
   "source": [
    "# Top products by total sales\n",
    "top_products = df_sales.groupby('producto')['total_venta'].sum().sort_values(ascending=False).head(10)"
   ]
  },
  {
   "cell_type": "code",
   "execution_count": 57,
   "id": "3884ab43-c528-48df-a629-6de9aa3c6fd2",
   "metadata": {},
   "outputs": [
    {
     "name": "stdout",
     "output_type": "stream",
     "text": [
      "Data transformations completed\n"
     ]
    },
    {
     "data": {
      "text/html": [
       "<div>\n",
       "<style scoped>\n",
       "    .dataframe tbody tr th:only-of-type {\n",
       "        vertical-align: middle;\n",
       "    }\n",
       "\n",
       "    .dataframe tbody tr th {\n",
       "        vertical-align: top;\n",
       "    }\n",
       "\n",
       "    .dataframe thead th {\n",
       "        text-align: right;\n",
       "    }\n",
       "</style>\n",
       "<table border=\"1\" class=\"dataframe\">\n",
       "  <thead>\n",
       "    <tr style=\"text-align: right;\">\n",
       "      <th></th>\n",
       "      <th>year</th>\n",
       "      <th>month</th>\n",
       "      <th>store</th>\n",
       "      <th>total_venta</th>\n",
       "    </tr>\n",
       "  </thead>\n",
       "  <tbody>\n",
       "    <tr>\n",
       "      <th>0</th>\n",
       "      <td>2023</td>\n",
       "      <td>April</td>\n",
       "      <td>Store_1</td>\n",
       "      <td>22000</td>\n",
       "    </tr>\n",
       "    <tr>\n",
       "      <th>1</th>\n",
       "      <td>2023</td>\n",
       "      <td>April</td>\n",
       "      <td>Store_2</td>\n",
       "      <td>930</td>\n",
       "    </tr>\n",
       "    <tr>\n",
       "      <th>2</th>\n",
       "      <td>2023</td>\n",
       "      <td>August</td>\n",
       "      <td>Store_1</td>\n",
       "      <td>40330</td>\n",
       "    </tr>\n",
       "    <tr>\n",
       "      <th>3</th>\n",
       "      <td>2023</td>\n",
       "      <td>August</td>\n",
       "      <td>Store_2</td>\n",
       "      <td>4480</td>\n",
       "    </tr>\n",
       "    <tr>\n",
       "      <th>4</th>\n",
       "      <td>2023</td>\n",
       "      <td>December</td>\n",
       "      <td>Store_1</td>\n",
       "      <td>33020</td>\n",
       "    </tr>\n",
       "  </tbody>\n",
       "</table>\n",
       "</div>"
      ],
      "text/plain": [
       "   year     month    store  total_venta\n",
       "0  2023     April  Store_1        22000\n",
       "1  2023     April  Store_2          930\n",
       "2  2023    August  Store_1        40330\n",
       "3  2023    August  Store_2         4480\n",
       "4  2023  December  Store_1        33020"
      ]
     },
     "execution_count": 57,
     "metadata": {},
     "output_type": "execute_result"
    }
   ],
   "source": [
    "print(\"Data transformations completed\")\n",
    "monthly_sales.head()"
   ]
  },
  {
   "cell_type": "code",
   "execution_count": 58,
   "id": "17abe01c-82dd-4eb6-8374-958337a4911f",
   "metadata": {},
   "outputs": [],
   "source": [
    "# VISUALIZATION: Plot monthly sales per store"
   ]
  },
  {
   "cell_type": "code",
   "execution_count": 59,
   "id": "9e40b695-64bb-49a3-b78d-39b4fb38ddc3",
   "metadata": {},
   "outputs": [],
   "source": [
    "import matplotlib.pyplot as plt\n",
    "import seaborn as sns"
   ]
  },
  {
   "cell_type": "code",
   "execution_count": 60,
   "id": "40e2e3da-0072-4de8-b9dc-54ba9daa7111",
   "metadata": {},
   "outputs": [
    {
     "data": {
      "image/png": "[encoded data removed]",
      "text/plain": [
       "<Figure size 1000x600 with 1 Axes>"
      ]
     },
     "metadata": {},
     "output_type": "display_data"
    }
   ],
   "source": [
    "plt.figure(figsize=(10,6))\n",
    "sns.barplot(x='month', y='total_venta', hue='store', data=monthly_sales)\n",
    "plt.title('Monthly Sales per Store')\n",
    "plt.xticks(rotation=45)\n",
    "plt.tight_layout()\n",
    "plt.show()"
   ]
  },
  {
   "cell_type": "code",
   "execution_count": 61,
   "id": "268fae08-3a86-4e37-bf60-2b32dcb7b68e",
   "metadata": {},
   "outputs": [],
   "source": [
    "# LOAD: Export processed datasets and reports"
   ]
  },
  {
   "cell_type": "code",
   "execution_count": 62,
   "id": "b01e6e4c-df83-471d-9019-e994214acc45",
   "metadata": {},
   "outputs": [],
   "source": [
    "output_processed = \"../data/processed/\"\n",
    "output_reports = \"../outputs/\""
   ]
  },
  {
   "cell_type": "code",
   "execution_count": 63,
   "id": "0486437e-2358-4b89-b6d7-732bda4ae810",
   "metadata": {},
   "outputs": [],
   "source": [
    "os.makedirs(output_processed, exist_ok=True)\n",
    "os.makedirs(output_reports, exist_ok=True)"
   ]
  },
  {
   "cell_type": "code",
   "execution_count": 64,
   "id": "e9a93a05-fb7d-46cd-a4f0-d19e03be6da8",
   "metadata": {},
   "outputs": [],
   "source": [
    "# Save cleaned and merged data\n",
    "df_sales.to_csv(os.path.join(output_processed, \"merged_sales.csv\"), index=False)"
   ]
  },
  {
   "cell_type": "code",
   "execution_count": 65,
   "id": "8592e7b1-776a-4d7c-bc67-5b816ddc466e",
   "metadata": {},
   "outputs": [],
   "source": [
    "# Save monthly summary\n",
    "monthly_sales.to_csv(os.path.join(output_reports, \"monthly_summary.csv\"), index=False)"
   ]
  },
  {
   "cell_type": "code",
   "execution_count": 66,
   "id": "e8106660-5a7d-424a-9cb5-6f1ccaec113a",
   "metadata": {},
   "outputs": [
    {
     "data": {
      "image/png": "[encoded data removed]",
      "text/plain": [
       "<Figure size 1000x600 with 1 Axes>"
      ]
     },
     "metadata": {},
     "output_type": "display_data"
    }
   ],
   "source": [
    "# Export last chart\n",
    "plt.figure(figsize=(10,6))\n",
    "sns.barplot(x='month', y='total_venta', hue='store', data=monthly_sales)\n",
    "plt.title('Monthly Sales per Store')\n",
    "plt.xticks(rotation=45)\n",
    "plt.tight_layout()\n",
    "plt.savefig(os.path.join(output_reports, \"sales_report.png\"))"
   ]
  },
  {
   "cell_type": "code",
   "execution_count": 76,
   "id": "be381f7c-f339-4e9a-9e57-4f11fea5f612",
   "metadata": {},
   "outputs": [],
   "source": [
    "# RUNNING THE FULL ETL PIPELINE"
   ]
  },
  {
   "cell_type": "code",
   "execution_count": 77,
   "id": "04533af0-9653-44a1-becd-d0bce006b646",
   "metadata": {},
   "outputs": [],
   "source": [
    "#from src.etl_pipeline import extract_data, transform_data, load_data\n",
    "#from src.utils import validate_data, generate_sales_report"
   ]
  },
  {
   "cell_type": "code",
   "execution_count": 78,
   "id": "0a2b6410-acaa-4302-9ba9-bf701264c44b",
   "metadata": {},
   "outputs": [],
   "source": [
    "# Define paths\n",
    "#file_path_1 = \"../data/raw/Store_Sales_Data.csv\"\n",
    "#file_path_2 = \"../data/raw/Store_Sales_Data2.csv\""
   ]
  },
  {
   "cell_type": "code",
   "execution_count": 79,
   "id": "1985a718-1793-4807-855c-b6e05c0b2b1e",
   "metadata": {},
   "outputs": [],
   "source": [
    "#print(\"Starting ETL pipeline...\")"
   ]
  },
  {
   "cell_type": "code",
   "execution_count": 80,
   "id": "04620f6e-79af-4600-b5f4-22af3592bab4",
   "metadata": {},
   "outputs": [],
   "source": [
    "# Execute ETL steps\n",
    "#df_sales = extract_data(file_path_1, file_path_2)\n",
    "#df_sales = transform_data(df_sales)\n",
    "#validate_data(df_sales)\n",
    "#merged_file = load_data(df_sales)"
   ]
  },
  {
   "cell_type": "code",
   "execution_count": 81,
   "id": "6e167bad-4bff-4bb0-a493-983d8aa20a91",
   "metadata": {},
   "outputs": [],
   "source": [
    "# Generate visualization\n",
    "# generate_sales_report(df_sales)"
   ]
  },
  {
   "cell_type": "code",
   "execution_count": 82,
   "id": "c2ff8980-6a6f-4d32-89de-2f6148513af8",
   "metadata": {},
   "outputs": [],
   "source": [
    "# print(\"ETL pipeline completed successfully.\")"
   ]
  },
  {
   "cell_type": "code",
   "execution_count": null,
   "id": "50e5e286-6e09-42a8-ae69-88a965e77357",
   "metadata": {},
   "outputs": [],
   "source": []
  }
 ],
 "metadata": {
  "kernelspec": {
   "display_name": "Python 3 (ipykernel)",
   "language": "python",
   "name": "python3"
  },
  "language_info": {
   "codemirror_mode": {
    "name": "ipython",
    "version": 3
   },
   "file_extension": ".py",
   "mimetype": "text/x-python",
   "name": "python",
   "nbconvert_exporter": "python",
   "pygments_lexer": "ipython3",
   "version": "3.12.7"
  }
 },
 "nbformat": 4,
 "nbformat_minor": 5
}
