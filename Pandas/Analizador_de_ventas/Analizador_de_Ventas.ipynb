{
 "cells": [
  {
   "cell_type": "markdown",
   "id": "e9e58d8e",
   "metadata": {},
   "source": [
    "# Analizador de Ventas\n",
    "\n",
    "### Objetivo\n",
    "Crear un programa en Python que analice un conjunto de datos de ventas de una tienda. El programa debe realizar varias operaciones de Data Science para proporcionar información valiosa sobre las ventas de la tienda.\n",
    "\n",
    "### Objetivos\n",
    "\n",
    "1. **Lectura de Datos**: Crear un DataFrame que contenga los datos provistos en el archivo **Datos_Ventas_Tienda.csv**. \n",
    "2. **Fusión de Datos**: Crear un segundo DataFrame que contenga los datos del archivo **Datos_Ventas_Tienda2.csv**, y concatenarlos para tener un solo dataFrame con toda la información.\n",
    "3. **Tratamiento de Datos**: Utilizar Pandas para manipular estos datos. Realizar tareas como limpieza de datos, filtrado y  transformaciones básicas.\n",
    "4. **Análisis de Ventas**: Realizar un análisis para responder preguntas como:\n",
    "- ¿Cuál es el producto más vendido?\n",
    "- ¿Cuál es el mes con más ventas?\n",
    "5. **Datos Agrupados**: Agrupar los datos por categoría de producto y analizar las ventas por categoría.\n",
    "6. **Guardar Resultados**: Al final, guardar el DataFrame completo (incluyendo la columna de meses) en un archivo .csv en el computador."
   ]
  },
  {
   "cell_type": "code",
   "execution_count": 15,
   "id": "67cdbc0b",
   "metadata": {},
   "outputs": [],
   "source": [
    "import pandas as pd"
   ]
  },
  {
   "cell_type": "code",
   "execution_count": null,
   "id": "cbfbba5b-e811-487e-a417-9a0ceb3844bd",
   "metadata": {},
   "outputs": [],
   "source": [
    "#Lectura de Datos\n",
    "ruta1 = 'C:/Users/tomor/OneDrive/Documentos/Programacion/Python para Data Science & Machine Learning/Proyectos/Pandas/Analizador-de-ventas/Datos_Ventas_Tienda.csv'\n",
    "ruta2 = 'C:/Users/tomor/OneDrive/Documentos/Programacion/Python para Data Science & Machine Learning/Proyectos/Pandas/Analizador-de-ventas/Datos_Ventas_Tienda2.csv'"
   ]
  },
  {
   "cell_type": "code",
   "execution_count": 17,
   "id": "a31c4218-215a-4943-ad14-9de748a70bc4",
   "metadata": {},
   "outputs": [],
   "source": [
    "df1 = pd.read_csv(ruta1)\n",
    "df2 = pd.read_csv(ruta2)"
   ]
  },
  {
   "cell_type": "code",
   "execution_count": 18,
   "id": "93172097-cb83-4ce0-a2da-117e4cc13cfd",
   "metadata": {},
   "outputs": [
    {
     "data": {
      "text/html": [
       "<div>\n",
       "<style scoped>\n",
       "    .dataframe tbody tr th:only-of-type {\n",
       "        vertical-align: middle;\n",
       "    }\n",
       "\n",
       "    .dataframe tbody tr th {\n",
       "        vertical-align: top;\n",
       "    }\n",
       "\n",
       "    .dataframe thead th {\n",
       "        text-align: right;\n",
       "    }\n",
       "</style>\n",
       "<table border=\"1\" class=\"dataframe\">\n",
       "  <thead>\n",
       "    <tr style=\"text-align: right;\">\n",
       "      <th></th>\n",
       "      <th>Fecha</th>\n",
       "      <th>Producto</th>\n",
       "      <th>Cantidad</th>\n",
       "      <th>Precio Unitario</th>\n",
       "      <th>Total Venta</th>\n",
       "    </tr>\n",
       "  </thead>\n",
       "  <tbody>\n",
       "    <tr>\n",
       "      <th>0</th>\n",
       "      <td>1/17/2023</td>\n",
       "      <td>Electrónic</td>\n",
       "      <td>7</td>\n",
       "      <td>200</td>\n",
       "      <td>1400</td>\n",
       "    </tr>\n",
       "    <tr>\n",
       "      <th>1</th>\n",
       "      <td>9/1/2023</td>\n",
       "      <td>Electrónic</td>\n",
       "      <td>8</td>\n",
       "      <td>200</td>\n",
       "      <td>1600</td>\n",
       "    </tr>\n",
       "    <tr>\n",
       "      <th>2</th>\n",
       "      <td>7/29/2023</td>\n",
       "      <td>Juguetes</td>\n",
       "      <td>3</td>\n",
       "      <td>30</td>\n",
       "      <td>90</td>\n",
       "    </tr>\n",
       "    <tr>\n",
       "      <th>3</th>\n",
       "      <td>10/4/2023</td>\n",
       "      <td>Alimentos</td>\n",
       "      <td>4</td>\n",
       "      <td>10</td>\n",
       "      <td>40</td>\n",
       "    </tr>\n",
       "    <tr>\n",
       "      <th>4</th>\n",
       "      <td>2/28/2023</td>\n",
       "      <td>Electrónic</td>\n",
       "      <td>6</td>\n",
       "      <td>200</td>\n",
       "      <td>1200</td>\n",
       "    </tr>\n",
       "  </tbody>\n",
       "</table>\n",
       "</div>"
      ],
      "text/plain": [
       "       Fecha    Producto  Cantidad  Precio Unitario  Total Venta\n",
       "0  1/17/2023  Electrónic         7              200         1400\n",
       "1   9/1/2023  Electrónic         8              200         1600\n",
       "2  7/29/2023    Juguetes         3               30           90\n",
       "3  10/4/2023   Alimentos         4               10           40\n",
       "4  2/28/2023  Electrónic         6              200         1200"
      ]
     },
     "execution_count": 18,
     "metadata": {},
     "output_type": "execute_result"
    }
   ],
   "source": [
    "df1.head()"
   ]
  },
  {
   "cell_type": "code",
   "execution_count": 19,
   "id": "9160842f-f7fc-4e55-b15a-59d95f035a43",
   "metadata": {},
   "outputs": [
    {
     "data": {
      "text/html": [
       "<div>\n",
       "<style scoped>\n",
       "    .dataframe tbody tr th:only-of-type {\n",
       "        vertical-align: middle;\n",
       "    }\n",
       "\n",
       "    .dataframe tbody tr th {\n",
       "        vertical-align: top;\n",
       "    }\n",
       "\n",
       "    .dataframe thead th {\n",
       "        text-align: right;\n",
       "    }\n",
       "</style>\n",
       "<table border=\"1\" class=\"dataframe\">\n",
       "  <thead>\n",
       "    <tr style=\"text-align: right;\">\n",
       "      <th></th>\n",
       "      <th>Fecha</th>\n",
       "      <th>Producto</th>\n",
       "      <th>Cantidad</th>\n",
       "      <th>Precio Unitario</th>\n",
       "      <th>Total Venta</th>\n",
       "    </tr>\n",
       "  </thead>\n",
       "  <tbody>\n",
       "    <tr>\n",
       "      <th>0</th>\n",
       "      <td>8/25/2023</td>\n",
       "      <td>Electrónic</td>\n",
       "      <td>5</td>\n",
       "      <td>200</td>\n",
       "      <td>1000</td>\n",
       "    </tr>\n",
       "    <tr>\n",
       "      <th>1</th>\n",
       "      <td>8/14/2023</td>\n",
       "      <td>Alimentos</td>\n",
       "      <td>9</td>\n",
       "      <td>10</td>\n",
       "      <td>90</td>\n",
       "    </tr>\n",
       "    <tr>\n",
       "      <th>2</th>\n",
       "      <td>8/30/2023</td>\n",
       "      <td>Ropa</td>\n",
       "      <td>6</td>\n",
       "      <td>50</td>\n",
       "      <td>300</td>\n",
       "    </tr>\n",
       "    <tr>\n",
       "      <th>3</th>\n",
       "      <td>11/9/2023</td>\n",
       "      <td>Alimentos</td>\n",
       "      <td>2</td>\n",
       "      <td>10</td>\n",
       "      <td>20</td>\n",
       "    </tr>\n",
       "    <tr>\n",
       "      <th>4</th>\n",
       "      <td>10/26/2023</td>\n",
       "      <td>Ropa</td>\n",
       "      <td>8</td>\n",
       "      <td>50</td>\n",
       "      <td>400</td>\n",
       "    </tr>\n",
       "  </tbody>\n",
       "</table>\n",
       "</div>"
      ],
      "text/plain": [
       "        Fecha    Producto  Cantidad  Precio Unitario  Total Venta\n",
       "0   8/25/2023  Electrónic         5              200         1000\n",
       "1   8/14/2023   Alimentos         9               10           90\n",
       "2   8/30/2023        Ropa         6               50          300\n",
       "3   11/9/2023   Alimentos         2               10           20\n",
       "4  10/26/2023        Ropa         8               50          400"
      ]
     },
     "execution_count": 19,
     "metadata": {},
     "output_type": "execute_result"
    }
   ],
   "source": [
    "df2.head()"
   ]
  },
  {
   "cell_type": "code",
   "execution_count": 20,
   "id": "c3213643-5d16-43f8-a45a-abe020e872d8",
   "metadata": {},
   "outputs": [],
   "source": [
    "#Fusión de Datos\n",
    "df_unido = pd.concat([df1, df2], axis=0, ignore_index=False)"
   ]
  },
  {
   "cell_type": "code",
   "execution_count": 21,
   "id": "608053f7-3da7-4423-9f59-48b0a2b05ed3",
   "metadata": {},
   "outputs": [
    {
     "data": {
      "text/html": [
       "<div>\n",
       "<style scoped>\n",
       "    .dataframe tbody tr th:only-of-type {\n",
       "        vertical-align: middle;\n",
       "    }\n",
       "\n",
       "    .dataframe tbody tr th {\n",
       "        vertical-align: top;\n",
       "    }\n",
       "\n",
       "    .dataframe thead th {\n",
       "        text-align: right;\n",
       "    }\n",
       "</style>\n",
       "<table border=\"1\" class=\"dataframe\">\n",
       "  <thead>\n",
       "    <tr style=\"text-align: right;\">\n",
       "      <th></th>\n",
       "      <th>Fecha</th>\n",
       "      <th>Producto</th>\n",
       "      <th>Cantidad</th>\n",
       "      <th>Precio Unitario</th>\n",
       "      <th>Total Venta</th>\n",
       "    </tr>\n",
       "  </thead>\n",
       "  <tbody>\n",
       "    <tr>\n",
       "      <th>0</th>\n",
       "      <td>1/17/2023</td>\n",
       "      <td>Electrónic</td>\n",
       "      <td>7</td>\n",
       "      <td>200</td>\n",
       "      <td>1400</td>\n",
       "    </tr>\n",
       "    <tr>\n",
       "      <th>1</th>\n",
       "      <td>9/1/2023</td>\n",
       "      <td>Electrónic</td>\n",
       "      <td>8</td>\n",
       "      <td>200</td>\n",
       "      <td>1600</td>\n",
       "    </tr>\n",
       "    <tr>\n",
       "      <th>2</th>\n",
       "      <td>7/29/2023</td>\n",
       "      <td>Juguetes</td>\n",
       "      <td>3</td>\n",
       "      <td>30</td>\n",
       "      <td>90</td>\n",
       "    </tr>\n",
       "    <tr>\n",
       "      <th>3</th>\n",
       "      <td>10/4/2023</td>\n",
       "      <td>Alimentos</td>\n",
       "      <td>4</td>\n",
       "      <td>10</td>\n",
       "      <td>40</td>\n",
       "    </tr>\n",
       "    <tr>\n",
       "      <th>4</th>\n",
       "      <td>2/28/2023</td>\n",
       "      <td>Electrónic</td>\n",
       "      <td>6</td>\n",
       "      <td>200</td>\n",
       "      <td>1200</td>\n",
       "    </tr>\n",
       "    <tr>\n",
       "      <th>...</th>\n",
       "      <td>...</td>\n",
       "      <td>...</td>\n",
       "      <td>...</td>\n",
       "      <td>...</td>\n",
       "      <td>...</td>\n",
       "    </tr>\n",
       "    <tr>\n",
       "      <th>45</th>\n",
       "      <td>9/11/2023</td>\n",
       "      <td>Juguetes</td>\n",
       "      <td>10</td>\n",
       "      <td>30</td>\n",
       "      <td>300</td>\n",
       "    </tr>\n",
       "    <tr>\n",
       "      <th>46</th>\n",
       "      <td>1/3/2023</td>\n",
       "      <td>Juguetes</td>\n",
       "      <td>10</td>\n",
       "      <td>30</td>\n",
       "      <td>300</td>\n",
       "    </tr>\n",
       "    <tr>\n",
       "      <th>47</th>\n",
       "      <td>11/7/2023</td>\n",
       "      <td>Alimentos</td>\n",
       "      <td>3</td>\n",
       "      <td>10</td>\n",
       "      <td>30</td>\n",
       "    </tr>\n",
       "    <tr>\n",
       "      <th>48</th>\n",
       "      <td>8/20/2023</td>\n",
       "      <td>Electrónic</td>\n",
       "      <td>6</td>\n",
       "      <td>200</td>\n",
       "      <td>1200</td>\n",
       "    </tr>\n",
       "    <tr>\n",
       "      <th>49</th>\n",
       "      <td>7/21/2023</td>\n",
       "      <td>Juguetes</td>\n",
       "      <td>3</td>\n",
       "      <td>30</td>\n",
       "      <td>90</td>\n",
       "    </tr>\n",
       "  </tbody>\n",
       "</table>\n",
       "<p>1050 rows × 5 columns</p>\n",
       "</div>"
      ],
      "text/plain": [
       "        Fecha    Producto  Cantidad  Precio Unitario  Total Venta\n",
       "0   1/17/2023  Electrónic         7              200         1400\n",
       "1    9/1/2023  Electrónic         8              200         1600\n",
       "2   7/29/2023    Juguetes         3               30           90\n",
       "3   10/4/2023   Alimentos         4               10           40\n",
       "4   2/28/2023  Electrónic         6              200         1200\n",
       "..        ...         ...       ...              ...          ...\n",
       "45  9/11/2023    Juguetes        10               30          300\n",
       "46   1/3/2023    Juguetes        10               30          300\n",
       "47  11/7/2023   Alimentos         3               10           30\n",
       "48  8/20/2023  Electrónic         6              200         1200\n",
       "49  7/21/2023    Juguetes         3               30           90\n",
       "\n",
       "[1050 rows x 5 columns]"
      ]
     },
     "execution_count": 21,
     "metadata": {},
     "output_type": "execute_result"
    }
   ],
   "source": [
    "df_unido"
   ]
  },
  {
   "cell_type": "code",
   "execution_count": 22,
   "id": "0d1b9422-5087-4c82-859c-ccb64571d266",
   "metadata": {},
   "outputs": [
    {
     "name": "stdout",
     "output_type": "stream",
     "text": [
      "Filas y columnas:  (1050, 5)\n"
     ]
    }
   ],
   "source": [
    "print('Filas y columnas: ', df_unido.shape)"
   ]
  },
  {
   "cell_type": "code",
   "execution_count": 23,
   "id": "d04f2dcc-8879-40fd-b74f-b81eea390e93",
   "metadata": {},
   "outputs": [
    {
     "name": "stdout",
     "output_type": "stream",
     "text": [
      "Columnas:  ['Fecha', 'Producto', 'Cantidad', 'Precio Unitario', 'Total Venta']\n"
     ]
    }
   ],
   "source": [
    "print('Columnas: ', df_unido.columns.tolist())"
   ]
  },
  {
   "cell_type": "code",
   "execution_count": 24,
   "id": "527c1efc-a006-49cd-8a60-e6fa054f3aca",
   "metadata": {},
   "outputs": [
    {
     "data": {
      "text/plain": [
       "Fecha              object\n",
       "Producto           object\n",
       "Cantidad            int64\n",
       "Precio Unitario     int64\n",
       "Total Venta         int64\n",
       "dtype: object"
      ]
     },
     "execution_count": 24,
     "metadata": {},
     "output_type": "execute_result"
    }
   ],
   "source": [
    "df_unido.dtypes"
   ]
  },
  {
   "cell_type": "code",
   "execution_count": 25,
   "id": "7cbb9ca9-8192-4240-9ba4-6be3111aef8d",
   "metadata": {},
   "outputs": [
    {
     "data": {
      "text/html": [
       "<div>\n",
       "<style scoped>\n",
       "    .dataframe tbody tr th:only-of-type {\n",
       "        vertical-align: middle;\n",
       "    }\n",
       "\n",
       "    .dataframe tbody tr th {\n",
       "        vertical-align: top;\n",
       "    }\n",
       "\n",
       "    .dataframe thead th {\n",
       "        text-align: right;\n",
       "    }\n",
       "</style>\n",
       "<table border=\"1\" class=\"dataframe\">\n",
       "  <thead>\n",
       "    <tr style=\"text-align: right;\">\n",
       "      <th></th>\n",
       "      <th>Cantidad</th>\n",
       "      <th>Precio Unitario</th>\n",
       "      <th>Total Venta</th>\n",
       "    </tr>\n",
       "  </thead>\n",
       "  <tbody>\n",
       "    <tr>\n",
       "      <th>count</th>\n",
       "      <td>1050.000000</td>\n",
       "      <td>1050.000000</td>\n",
       "      <td>1050.000000</td>\n",
       "    </tr>\n",
       "    <tr>\n",
       "      <th>mean</th>\n",
       "      <td>5.490476</td>\n",
       "      <td>64.428571</td>\n",
       "      <td>349.761905</td>\n",
       "    </tr>\n",
       "    <tr>\n",
       "      <th>std</th>\n",
       "      <td>2.882577</td>\n",
       "      <td>72.437522</td>\n",
       "      <td>473.870983</td>\n",
       "    </tr>\n",
       "    <tr>\n",
       "      <th>min</th>\n",
       "      <td>1.000000</td>\n",
       "      <td>10.000000</td>\n",
       "      <td>10.000000</td>\n",
       "    </tr>\n",
       "    <tr>\n",
       "      <th>25%</th>\n",
       "      <td>3.000000</td>\n",
       "      <td>20.000000</td>\n",
       "      <td>70.000000</td>\n",
       "    </tr>\n",
       "    <tr>\n",
       "      <th>50%</th>\n",
       "      <td>5.000000</td>\n",
       "      <td>30.000000</td>\n",
       "      <td>150.000000</td>\n",
       "    </tr>\n",
       "    <tr>\n",
       "      <th>75%</th>\n",
       "      <td>8.000000</td>\n",
       "      <td>50.000000</td>\n",
       "      <td>400.000000</td>\n",
       "    </tr>\n",
       "    <tr>\n",
       "      <th>max</th>\n",
       "      <td>10.000000</td>\n",
       "      <td>200.000000</td>\n",
       "      <td>2000.000000</td>\n",
       "    </tr>\n",
       "  </tbody>\n",
       "</table>\n",
       "</div>"
      ],
      "text/plain": [
       "          Cantidad  Precio Unitario  Total Venta\n",
       "count  1050.000000      1050.000000  1050.000000\n",
       "mean      5.490476        64.428571   349.761905\n",
       "std       2.882577        72.437522   473.870983\n",
       "min       1.000000        10.000000    10.000000\n",
       "25%       3.000000        20.000000    70.000000\n",
       "50%       5.000000        30.000000   150.000000\n",
       "75%       8.000000        50.000000   400.000000\n",
       "max      10.000000       200.000000  2000.000000"
      ]
     },
     "execution_count": 25,
     "metadata": {},
     "output_type": "execute_result"
    }
   ],
   "source": [
    "df_unido.describe()"
   ]
  },
  {
   "cell_type": "code",
   "execution_count": 26,
   "id": "d83af259-60c1-4db4-b88b-dd5a8df93c8c",
   "metadata": {},
   "outputs": [
    {
     "data": {
      "text/plain": [
       "Fecha              0\n",
       "Producto           0\n",
       "Cantidad           0\n",
       "Precio Unitario    0\n",
       "Total Venta        0\n",
       "dtype: int64"
      ]
     },
     "execution_count": 26,
     "metadata": {},
     "output_type": "execute_result"
    }
   ],
   "source": [
    "df_unido.isnull().sum()"
   ]
  },
  {
   "cell_type": "code",
   "execution_count": 28,
   "id": "10003cbb-5c8f-403b-84fe-138cafcf1875",
   "metadata": {},
   "outputs": [
    {
     "name": "stdout",
     "output_type": "stream",
     "text": [
      "29\n"
     ]
    }
   ],
   "source": [
    "print(df_unido.duplicated().sum())"
   ]
  },
  {
   "cell_type": "code",
   "execution_count": 29,
   "id": "dcb24d09-c6ae-4b10-80c3-7f3a9418177f",
   "metadata": {},
   "outputs": [
    {
     "data": {
      "text/html": [
       "<div>\n",
       "<style scoped>\n",
       "    .dataframe tbody tr th:only-of-type {\n",
       "        vertical-align: middle;\n",
       "    }\n",
       "\n",
       "    .dataframe tbody tr th {\n",
       "        vertical-align: top;\n",
       "    }\n",
       "\n",
       "    .dataframe thead th {\n",
       "        text-align: right;\n",
       "    }\n",
       "</style>\n",
       "<table border=\"1\" class=\"dataframe\">\n",
       "  <thead>\n",
       "    <tr style=\"text-align: right;\">\n",
       "      <th></th>\n",
       "      <th>Fecha</th>\n",
       "      <th>Producto</th>\n",
       "      <th>Cantidad</th>\n",
       "      <th>Precio Unitario</th>\n",
       "      <th>Total Venta</th>\n",
       "    </tr>\n",
       "  </thead>\n",
       "  <tbody>\n",
       "    <tr>\n",
       "      <th>628</th>\n",
       "      <td>7/29/2023</td>\n",
       "      <td>Ropa</td>\n",
       "      <td>1</td>\n",
       "      <td>50</td>\n",
       "      <td>50</td>\n",
       "    </tr>\n",
       "    <tr>\n",
       "      <th>285</th>\n",
       "      <td>8/12/2023</td>\n",
       "      <td>Alimentos</td>\n",
       "      <td>6</td>\n",
       "      <td>10</td>\n",
       "      <td>60</td>\n",
       "    </tr>\n",
       "    <tr>\n",
       "      <th>437</th>\n",
       "      <td>11/5/2023</td>\n",
       "      <td>Alimentos</td>\n",
       "      <td>6</td>\n",
       "      <td>10</td>\n",
       "      <td>60</td>\n",
       "    </tr>\n",
       "    <tr>\n",
       "      <th>121</th>\n",
       "      <td>1/25/2023</td>\n",
       "      <td>Ropa</td>\n",
       "      <td>10</td>\n",
       "      <td>50</td>\n",
       "      <td>500</td>\n",
       "    </tr>\n",
       "    <tr>\n",
       "      <th>375</th>\n",
       "      <td>7/20/2023</td>\n",
       "      <td>Alimentos</td>\n",
       "      <td>4</td>\n",
       "      <td>10</td>\n",
       "      <td>40</td>\n",
       "    </tr>\n",
       "  </tbody>\n",
       "</table>\n",
       "</div>"
      ],
      "text/plain": [
       "         Fecha   Producto  Cantidad  Precio Unitario  Total Venta\n",
       "628  7/29/2023       Ropa         1               50           50\n",
       "285  8/12/2023  Alimentos         6               10           60\n",
       "437  11/5/2023  Alimentos         6               10           60\n",
       "121  1/25/2023       Ropa        10               50          500\n",
       "375  7/20/2023  Alimentos         4               10           40"
      ]
     },
     "execution_count": 29,
     "metadata": {},
     "output_type": "execute_result"
    }
   ],
   "source": [
    "df_unido.sample(5)"
   ]
  },
  {
   "cell_type": "code",
   "execution_count": 30,
   "id": "5a4c25c0-fccd-48ab-93fb-22e84f67098e",
   "metadata": {},
   "outputs": [],
   "source": [
    "df_unido['Fecha'] = pd.to_datetime(df_unido['Fecha'])"
   ]
  },
  {
   "cell_type": "code",
   "execution_count": 31,
   "id": "0221fb5b-dd05-40c4-9776-bd90aad21d5a",
   "metadata": {},
   "outputs": [
    {
     "data": {
      "text/plain": [
       "Fecha              datetime64[ns]\n",
       "Producto                   object\n",
       "Cantidad                    int64\n",
       "Precio Unitario             int64\n",
       "Total Venta                 int64\n",
       "dtype: object"
      ]
     },
     "execution_count": 31,
     "metadata": {},
     "output_type": "execute_result"
    }
   ],
   "source": [
    "df_unido.dtypes"
   ]
  },
  {
   "cell_type": "code",
   "execution_count": 32,
   "id": "6e2f4c9f-e8b9-45b1-8528-15445f28ba5f",
   "metadata": {},
   "outputs": [
    {
     "data": {
      "text/plain": [
       "Producto\n",
       "Alimentos    1262\n",
       "Name: Cantidad, dtype: int64"
      ]
     },
     "execution_count": 32,
     "metadata": {},
     "output_type": "execute_result"
    }
   ],
   "source": [
    "#¿Cuál es el producto más vendido?\n",
    "producto_mas_vendido = df_unido.groupby('Producto')['Cantidad'].sum()\n",
    "respuesta = producto_mas_vendido.sort_values(ascending=False).head(1)\n",
    "respuesta"
   ]
  },
  {
   "cell_type": "code",
   "execution_count": 38,
   "id": "3c48055f-5364-4ec0-adec-6222e8a2cb4f",
   "metadata": {},
   "outputs": [
    {
     "name": "stdout",
     "output_type": "stream",
     "text": [
      "Mes con más ventas: 8\n"
     ]
    }
   ],
   "source": [
    "#¿Cuál es el mes con más ventas?\n",
    "df_unido['Mes'] = df_unido['Fecha'].dt.month\n",
    "mes_con_mas_ventas = df_unido.groupby('Mes')['Cantidad'].sum()\n",
    "mes_mas_vendido = mes_con_mas_ventas.idxmax()\n",
    "print(\"Mes con más ventas:\", mes_mas_vendido)\n"
   ]
  },
  {
   "cell_type": "code",
   "execution_count": 45,
   "id": "e2a7ebab-7b67-49c0-9716-b60fd7a06451",
   "metadata": {},
   "outputs": [
    {
     "data": {
      "text/plain": [
       "Producto\n",
       "Electrónic    244000\n",
       "Ropa           56400\n",
       "Juguetes       33390\n",
       "Libros         20840\n",
       "Alimentos      12620\n",
       "Name: Total Venta, dtype: int64"
      ]
     },
     "execution_count": 45,
     "metadata": {},
     "output_type": "execute_result"
    }
   ],
   "source": [
    "#Agrupa los datos por categoría de producto y analiza las ventas por categoría.\n",
    "ventas_por_categoria = df_unido.groupby('Producto')['Total Venta'].sum()\n",
    "ventas_por_categoria.sort_values(ascending=False)"
   ]
  },
  {
   "cell_type": "code",
   "execution_count": null,
   "id": "4d826a45-35be-41e3-89bc-e52e0312b931",
   "metadata": {},
   "outputs": [],
   "source": [
    "# guarda el DataFrame completo en un archivo .csv en tu ordenador.\n",
    "# df.to_csv('Análisis_ventas.csv')"
   ]
  }
 ],
 "metadata": {
  "kernelspec": {
   "display_name": "Python 3 (ipykernel)",
   "language": "python",
   "name": "python3"
  },
  "language_info": {
   "codemirror_mode": {
    "name": "ipython",
    "version": 3
   },
   "file_extension": ".py",
   "mimetype": "text/x-python",
   "name": "python",
   "nbconvert_exporter": "python",
   "pygments_lexer": "ipython3",
   "version": "3.12.7"
  }
 },
 "nbformat": 4,
 "nbformat_minor": 5
}
