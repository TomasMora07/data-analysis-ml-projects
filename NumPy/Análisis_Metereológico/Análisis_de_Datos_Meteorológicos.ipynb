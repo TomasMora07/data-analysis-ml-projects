{
 "cells": [
  {
   "cell_type": "markdown",
   "id": "1ff9b7b5",
   "metadata": {},
   "source": [
    "# Análisis de Datos Meteorológicos\n",
    "\n",
    "Este proyecto consiste en analizar un conjunto de datos meteorológicos utilizando Python y NumPy. \n",
    "El objetivo es aplicar las técnicas de manipulación de arrays, tratamiento de datos faltantes, \n",
    "y análisis estadístico básico en un conjunto de datos del mundo real.\n",
    "\n",
    "## Tareas a Realizar:\n",
    "1. Crear un DataFrame a partir de los datos del archivo **datos_meteorologicos.csv**.\n",
    "2. Realizar observaciones iniciales de los datos con Pandas.\n",
    "3. Convertir las columnas del DataFrame en arrays de NumPy.\n",
    "4. Identificar los datos faltantes en los arrays, y reemplazarlos por el promedio de los valores del respectivo array.\n",
    "5. Realizar análisis estadísticos básicos. Mínimamente se espera que puedas extraer la siguiente información de los arrays:\n",
    "    * La temperatura promedio\n",
    "    * El total de precipitaciones\n",
    "    * La máxima humedad registrada\n",
    "    * La fecha más calurosa\n",
    "    * La fehca más fría\n",
    "6. Exportar los resultados a un nuevo archivo CSV.\n"
   ]
  },
  {
   "cell_type": "markdown",
   "id": "6b416605",
   "metadata": {},
   "source": [
    "### 1. Crear un DataFrame a partir de los datos del archivo datos_meteorologicos.csv."
   ]
  },
  {
   "cell_type": "code",
   "execution_count": 88,
   "id": "4dabf813",
   "metadata": {},
   "outputs": [],
   "source": [
    "import pandas as pd"
   ]
  },
  {
   "cell_type": "code",
   "execution_count": 89,
   "id": "8fd0f590-e24d-4976-96f8-0fd8066bbd32",
   "metadata": {},
   "outputs": [],
   "source": [
    "import numpy as np"
   ]
  },
  {
   "cell_type": "code",
   "execution_count": null,
   "id": "8e89f43e-3dd6-4dc8-9bbc-5d94e7934f81",
   "metadata": {},
   "outputs": [],
   "source": [
    "df = pd.read_csv(\"C:/Users/tomor/OneDrive/Documentos/Programacion/Python para Data Science & Machine Learning/Proyectos/Numpy/Análisis_Metereológico/datos_meteorologicos.csv\")"
   ]
  },
  {
   "cell_type": "markdown",
   "id": "bd5ba486",
   "metadata": {},
   "source": [
    "### 2. Realizar observaciones iniciales de los datos con Pandas."
   ]
  },
  {
   "cell_type": "code",
   "execution_count": 91,
   "id": "f6fb247d",
   "metadata": {
    "scrolled": true
   },
   "outputs": [
    {
     "data": {
      "text/html": [
       "<div>\n",
       "<style scoped>\n",
       "    .dataframe tbody tr th:only-of-type {\n",
       "        vertical-align: middle;\n",
       "    }\n",
       "\n",
       "    .dataframe tbody tr th {\n",
       "        vertical-align: top;\n",
       "    }\n",
       "\n",
       "    .dataframe thead th {\n",
       "        text-align: right;\n",
       "    }\n",
       "</style>\n",
       "<table border=\"1\" class=\"dataframe\">\n",
       "  <thead>\n",
       "    <tr style=\"text-align: right;\">\n",
       "      <th></th>\n",
       "      <th>Fecha</th>\n",
       "      <th>Temperatura</th>\n",
       "      <th>Precipitación</th>\n",
       "      <th>Humedad</th>\n",
       "    </tr>\n",
       "  </thead>\n",
       "  <tbody>\n",
       "    <tr>\n",
       "      <th>0</th>\n",
       "      <td>01/01/2010</td>\n",
       "      <td>17.440675</td>\n",
       "      <td>10.957482</td>\n",
       "      <td>52.384637</td>\n",
       "    </tr>\n",
       "    <tr>\n",
       "      <th>1</th>\n",
       "      <td>02/01/2010</td>\n",
       "      <td>25.759468</td>\n",
       "      <td>5.315628</td>\n",
       "      <td>30.633530</td>\n",
       "    </tr>\n",
       "    <tr>\n",
       "      <th>2</th>\n",
       "      <td>03/01/2010</td>\n",
       "      <td>20.138169</td>\n",
       "      <td>15.317706</td>\n",
       "      <td>41.496715</td>\n",
       "    </tr>\n",
       "    <tr>\n",
       "      <th>3</th>\n",
       "      <td>04/01/2010</td>\n",
       "      <td>17.244159</td>\n",
       "      <td>13.151008</td>\n",
       "      <td>90.684704</td>\n",
       "    </tr>\n",
       "    <tr>\n",
       "      <th>4</th>\n",
       "      <td>05/01/2010</td>\n",
       "      <td>11.182740</td>\n",
       "      <td>16.413667</td>\n",
       "      <td>22.116422</td>\n",
       "    </tr>\n",
       "  </tbody>\n",
       "</table>\n",
       "</div>"
      ],
      "text/plain": [
       "        Fecha  Temperatura  Precipitación    Humedad\n",
       "0  01/01/2010    17.440675      10.957482  52.384637\n",
       "1  02/01/2010    25.759468       5.315628  30.633530\n",
       "2  03/01/2010    20.138169      15.317706  41.496715\n",
       "3  04/01/2010    17.244159      13.151008  90.684704\n",
       "4  05/01/2010    11.182740      16.413667  22.116422"
      ]
     },
     "execution_count": 91,
     "metadata": {},
     "output_type": "execute_result"
    }
   ],
   "source": [
    "df.head()"
   ]
  },
  {
   "cell_type": "code",
   "execution_count": 92,
   "id": "25873330-90d4-4e08-b70e-1fc9344b423a",
   "metadata": {},
   "outputs": [
    {
     "data": {
      "text/plain": [
       "(5110, 4)"
      ]
     },
     "execution_count": 92,
     "metadata": {},
     "output_type": "execute_result"
    }
   ],
   "source": [
    "df.shape"
   ]
  },
  {
   "cell_type": "code",
   "execution_count": 93,
   "id": "2cee25a1-5f9a-4563-8cb7-f3cbd6d27cf5",
   "metadata": {},
   "outputs": [
    {
     "data": {
      "text/plain": [
       "Fecha             object\n",
       "Temperatura      float64\n",
       "Precipitación    float64\n",
       "Humedad          float64\n",
       "dtype: object"
      ]
     },
     "execution_count": 93,
     "metadata": {},
     "output_type": "execute_result"
    }
   ],
   "source": [
    "df.dtypes"
   ]
  },
  {
   "cell_type": "code",
   "execution_count": 94,
   "id": "fd56e99d-7a7c-4305-92e6-6ed3c5b096b4",
   "metadata": {},
   "outputs": [
    {
     "data": {
      "text/plain": [
       "Fecha              0\n",
       "Temperatura      255\n",
       "Precipitación    255\n",
       "Humedad          255\n",
       "dtype: int64"
      ]
     },
     "execution_count": 94,
     "metadata": {},
     "output_type": "execute_result"
    }
   ],
   "source": [
    "df.isnull().sum()"
   ]
  },
  {
   "cell_type": "code",
   "execution_count": 95,
   "id": "ed74e221-3f0f-4810-829a-6078ea455866",
   "metadata": {},
   "outputs": [
    {
     "data": {
      "text/plain": [
       "np.int64(0)"
      ]
     },
     "execution_count": 95,
     "metadata": {},
     "output_type": "execute_result"
    }
   ],
   "source": [
    "df.duplicated().sum()"
   ]
  },
  {
   "cell_type": "code",
   "execution_count": 108,
   "id": "00e276b4-0769-462b-b056-453465061a79",
   "metadata": {},
   "outputs": [
    {
     "data": {
      "text/html": [
       "<div>\n",
       "<style scoped>\n",
       "    .dataframe tbody tr th:only-of-type {\n",
       "        vertical-align: middle;\n",
       "    }\n",
       "\n",
       "    .dataframe tbody tr th {\n",
       "        vertical-align: top;\n",
       "    }\n",
       "\n",
       "    .dataframe thead th {\n",
       "        text-align: right;\n",
       "    }\n",
       "</style>\n",
       "<table border=\"1\" class=\"dataframe\">\n",
       "  <thead>\n",
       "    <tr style=\"text-align: right;\">\n",
       "      <th></th>\n",
       "      <th>Fecha</th>\n",
       "      <th>Temperatura</th>\n",
       "      <th>Precipitación</th>\n",
       "      <th>Humedad</th>\n",
       "    </tr>\n",
       "  </thead>\n",
       "  <tbody>\n",
       "    <tr>\n",
       "      <th>count</th>\n",
       "      <td>5110</td>\n",
       "      <td>4855.000000</td>\n",
       "      <td>4855.000000</td>\n",
       "      <td>4855.000000</td>\n",
       "    </tr>\n",
       "    <tr>\n",
       "      <th>mean</th>\n",
       "      <td>2016-12-29 12:00:00</td>\n",
       "      <td>14.889296</td>\n",
       "      <td>9.901604</td>\n",
       "      <td>54.359061</td>\n",
       "    </tr>\n",
       "    <tr>\n",
       "      <th>min</th>\n",
       "      <td>2010-01-01 00:00:00</td>\n",
       "      <td>-9.996378</td>\n",
       "      <td>0.003008</td>\n",
       "      <td>10.014980</td>\n",
       "    </tr>\n",
       "    <tr>\n",
       "      <th>25%</th>\n",
       "      <td>2013-07-01 06:00:00</td>\n",
       "      <td>2.651777</td>\n",
       "      <td>4.756907</td>\n",
       "      <td>31.866578</td>\n",
       "    </tr>\n",
       "    <tr>\n",
       "      <th>50%</th>\n",
       "      <td>2016-12-29 12:00:00</td>\n",
       "      <td>14.693274</td>\n",
       "      <td>9.853698</td>\n",
       "      <td>54.254478</td>\n",
       "    </tr>\n",
       "    <tr>\n",
       "      <th>75%</th>\n",
       "      <td>2020-06-28 18:00:00</td>\n",
       "      <td>27.381451</td>\n",
       "      <td>14.966997</td>\n",
       "      <td>77.029500</td>\n",
       "    </tr>\n",
       "    <tr>\n",
       "      <th>max</th>\n",
       "      <td>2023-12-28 00:00:00</td>\n",
       "      <td>39.998201</td>\n",
       "      <td>19.999559</td>\n",
       "      <td>99.996582</td>\n",
       "    </tr>\n",
       "    <tr>\n",
       "      <th>std</th>\n",
       "      <td>NaN</td>\n",
       "      <td>14.440466</td>\n",
       "      <td>5.801842</td>\n",
       "      <td>26.096345</td>\n",
       "    </tr>\n",
       "  </tbody>\n",
       "</table>\n",
       "</div>"
      ],
      "text/plain": [
       "                     Fecha  Temperatura  Precipitación      Humedad\n",
       "count                 5110  4855.000000    4855.000000  4855.000000\n",
       "mean   2016-12-29 12:00:00    14.889296       9.901604    54.359061\n",
       "min    2010-01-01 00:00:00    -9.996378       0.003008    10.014980\n",
       "25%    2013-07-01 06:00:00     2.651777       4.756907    31.866578\n",
       "50%    2016-12-29 12:00:00    14.693274       9.853698    54.254478\n",
       "75%    2020-06-28 18:00:00    27.381451      14.966997    77.029500\n",
       "max    2023-12-28 00:00:00    39.998201      19.999559    99.996582\n",
       "std                    NaN    14.440466       5.801842    26.096345"
      ]
     },
     "execution_count": 108,
     "metadata": {},
     "output_type": "execute_result"
    }
   ],
   "source": [
    "df.describe()"
   ]
  },
  {
   "cell_type": "code",
   "execution_count": 96,
   "id": "ede6c950-e003-4b88-ba45-e45d26578d11",
   "metadata": {},
   "outputs": [
    {
     "data": {
      "text/html": [
       "<div>\n",
       "<style scoped>\n",
       "    .dataframe tbody tr th:only-of-type {\n",
       "        vertical-align: middle;\n",
       "    }\n",
       "\n",
       "    .dataframe tbody tr th {\n",
       "        vertical-align: top;\n",
       "    }\n",
       "\n",
       "    .dataframe thead th {\n",
       "        text-align: right;\n",
       "    }\n",
       "</style>\n",
       "<table border=\"1\" class=\"dataframe\">\n",
       "  <thead>\n",
       "    <tr style=\"text-align: right;\">\n",
       "      <th></th>\n",
       "      <th>Fecha</th>\n",
       "      <th>Temperatura</th>\n",
       "      <th>Precipitación</th>\n",
       "      <th>Humedad</th>\n",
       "    </tr>\n",
       "  </thead>\n",
       "  <tbody>\n",
       "    <tr>\n",
       "      <th>4280</th>\n",
       "      <td>2021-09-20</td>\n",
       "      <td>10.750151</td>\n",
       "      <td>2.083016</td>\n",
       "      <td>51.138350</td>\n",
       "    </tr>\n",
       "    <tr>\n",
       "      <th>4641</th>\n",
       "      <td>2022-09-16</td>\n",
       "      <td>38.232700</td>\n",
       "      <td>14.447256</td>\n",
       "      <td>91.307691</td>\n",
       "    </tr>\n",
       "    <tr>\n",
       "      <th>3755</th>\n",
       "      <td>2020-04-13</td>\n",
       "      <td>NaN</td>\n",
       "      <td>NaN</td>\n",
       "      <td>NaN</td>\n",
       "    </tr>\n",
       "    <tr>\n",
       "      <th>3449</th>\n",
       "      <td>2019-06-12</td>\n",
       "      <td>-9.861452</td>\n",
       "      <td>9.765707</td>\n",
       "      <td>89.054170</td>\n",
       "    </tr>\n",
       "    <tr>\n",
       "      <th>3044</th>\n",
       "      <td>2018-05-03</td>\n",
       "      <td>3.027382</td>\n",
       "      <td>18.675419</td>\n",
       "      <td>96.849997</td>\n",
       "    </tr>\n",
       "  </tbody>\n",
       "</table>\n",
       "</div>"
      ],
      "text/plain": [
       "          Fecha  Temperatura  Precipitación    Humedad\n",
       "4280 2021-09-20    10.750151       2.083016  51.138350\n",
       "4641 2022-09-16    38.232700      14.447256  91.307691\n",
       "3755 2020-04-13          NaN            NaN        NaN\n",
       "3449 2019-06-12    -9.861452       9.765707  89.054170\n",
       "3044 2018-05-03     3.027382      18.675419  96.849997"
      ]
     },
     "execution_count": 96,
     "metadata": {},
     "output_type": "execute_result"
    }
   ],
   "source": [
    "df['Fecha'] = pd.to_datetime(df['Fecha'], dayfirst=True)\n",
    "df.sample(5)"
   ]
  },
  {
   "cell_type": "markdown",
   "id": "9a6f36ea",
   "metadata": {},
   "source": [
    "### 3. Convertir las columnas del DataFrame en arrays de NumPy."
   ]
  },
  {
   "cell_type": "code",
   "execution_count": 97,
   "id": "04ee9183",
   "metadata": {},
   "outputs": [],
   "source": [
    "temperatura = df['Temperatura'].to_numpy()\n",
    "precipitacion = df['Precipitación'].to_numpy()\n",
    "humedad = df['Humedad'].to_numpy()"
   ]
  },
  {
   "cell_type": "markdown",
   "id": "ea34bb17",
   "metadata": {},
   "source": [
    "### 4. Identificar los datos faltantes en los arrays, y reemplazarlos por el promedio de los valores del respectivo array."
   ]
  },
  {
   "cell_type": "code",
   "execution_count": 98,
   "id": "65f3ba49",
   "metadata": {},
   "outputs": [
    {
     "name": "stdout",
     "output_type": "stream",
     "text": [
      "255\n",
      "255\n",
      "255\n"
     ]
    }
   ],
   "source": [
    "# Identificar los NaN\n",
    "temp_nulos = np.isnan(temperatura).sum()\n",
    "precip_nulos = np.isnan(precipitacion).sum()\n",
    "humed_nulos = np.isnan(humedad).sum()\n",
    "\n",
    "print(temp_nulos)\n",
    "print(precip_nulos)\n",
    "print(humed_nulos)"
   ]
  },
  {
   "cell_type": "code",
   "execution_count": 99,
   "id": "8c694601-ee58-455d-85e5-5dcb1c19bff0",
   "metadata": {},
   "outputs": [],
   "source": [
    "# Calcular el promedio sin contar los NaN\n",
    "temp_promedio = np.nanmean(temperatura)\n",
    "# Reemplazar los NaN con el promedio\n",
    "temperatura = np.where(np.isnan(temperatura), temp_promedio, temperatura)\n",
    "\n",
    "precip_promedio = np.nanmean(precipitacion)\n",
    "precipitacion = np.where(np.isnan(precipitacion), precip_promedio, precipitacion)\n",
    "\n",
    "humed_promedio = np.nanmean(humedad)\n",
    "humedad = np.where(np.isnan(humedad), humed_promedio, humedad)"
   ]
  },
  {
   "cell_type": "code",
   "execution_count": 101,
   "id": "be80cf99-db30-448c-be91-844482de5571",
   "metadata": {},
   "outputs": [
    {
     "name": "stdout",
     "output_type": "stream",
     "text": [
      "0\n",
      "0\n",
      "0\n"
     ]
    }
   ],
   "source": [
    "temp_nulos = np.isnan(temperatura).sum()\n",
    "precip_nulos = np.isnan(precipitacion).sum()\n",
    "humed_nulos = np.isnan(humedad).sum()\n",
    "\n",
    "print(temp_nulos)\n",
    "print(precip_nulos)\n",
    "print(humed_nulos)"
   ]
  },
  {
   "cell_type": "markdown",
   "id": "e9cc83f2",
   "metadata": {},
   "source": [
    "### 5. Realizar análisis estadísticos básicos.\n",
    "\n",
    "##### Temperatura promedio"
   ]
  },
  {
   "cell_type": "code",
   "execution_count": 121,
   "id": "35631de2",
   "metadata": {},
   "outputs": [
    {
     "data": {
      "text/plain": [
       "np.float64(14.889295723531713)"
      ]
     },
     "execution_count": 121,
     "metadata": {},
     "output_type": "execute_result"
    }
   ],
   "source": [
    "temperatura_promedio = np.mean(temperatura)\n",
    "temperatura_promedio"
   ]
  },
  {
   "cell_type": "markdown",
   "id": "3d5b50ca",
   "metadata": {},
   "source": [
    "##### Total de precipitaciones"
   ]
  },
  {
   "cell_type": "code",
   "execution_count": 122,
   "id": "55ea942d",
   "metadata": {},
   "outputs": [
    {
     "data": {
      "text/plain": [
       "np.float64(50597.19438939993)"
      ]
     },
     "execution_count": 122,
     "metadata": {},
     "output_type": "execute_result"
    }
   ],
   "source": [
    "precipitaciones_totales = np.sum(precipitacion)\n",
    "precipitaciones_totales"
   ]
  },
  {
   "cell_type": "markdown",
   "id": "37408d44",
   "metadata": {},
   "source": [
    "##### Máxima humedad registrada"
   ]
  },
  {
   "cell_type": "code",
   "execution_count": 123,
   "id": "915e24c5",
   "metadata": {},
   "outputs": [
    {
     "data": {
      "text/plain": [
       "np.float64(99.99658156071747)"
      ]
     },
     "execution_count": 123,
     "metadata": {},
     "output_type": "execute_result"
    }
   ],
   "source": [
    "humedad_maxima = np.max(humedad)\n",
    "humedad_maxima"
   ]
  },
  {
   "cell_type": "markdown",
   "id": "feabf8f5",
   "metadata": {},
   "source": [
    "##### Fecha más calurosa"
   ]
  },
  {
   "cell_type": "code",
   "execution_count": 113,
   "id": "bedde039",
   "metadata": {},
   "outputs": [
    {
     "data": {
      "text/plain": [
       "np.float64(39.99820092713012)"
      ]
     },
     "execution_count": 113,
     "metadata": {},
     "output_type": "execute_result"
    }
   ],
   "source": [
    "# Obtener la temperatura mas alta\n",
    "mayor_temperatura = np.max(temperatura)\n",
    "mayor_temperatura"
   ]
  },
  {
   "cell_type": "code",
   "execution_count": 124,
   "id": "244224a6-a908-412b-a751-c380b2c19e05",
   "metadata": {},
   "outputs": [
    {
     "data": {
      "text/plain": [
       "np.int64(2749)"
      ]
     },
     "execution_count": 124,
     "metadata": {},
     "output_type": "execute_result"
    }
   ],
   "source": [
    "# Obtener el índice correspondiente a esa temperatura\n",
    "registro_mayor_temperatura = np.where(temperatura == mayor_temperatura)[0][0]\n",
    "registro_mayor_temperatura"
   ]
  },
  {
   "cell_type": "code",
   "execution_count": 125,
   "id": "cc58a457-f47b-466c-b5dd-9f1bc11da940",
   "metadata": {},
   "outputs": [
    {
     "data": {
      "text/plain": [
       "Timestamp('2017-07-12 00:00:00')"
      ]
     },
     "execution_count": 125,
     "metadata": {},
     "output_type": "execute_result"
    }
   ],
   "source": [
    "# Fecha correspondiente al registro\n",
    "fecha_mas_calurosa = df.iloc[registro_mayor_temperatura]['Fecha']\n",
    "fecha_mas_calurosa"
   ]
  },
  {
   "cell_type": "markdown",
   "id": "f30a99e0",
   "metadata": {},
   "source": [
    "##### Fehca más fría"
   ]
  },
  {
   "cell_type": "code",
   "execution_count": 118,
   "id": "68f820f0",
   "metadata": {},
   "outputs": [
    {
     "data": {
      "text/plain": [
       "Timestamp('2020-07-23 00:00:00')"
      ]
     },
     "execution_count": 118,
     "metadata": {},
     "output_type": "execute_result"
    }
   ],
   "source": [
    "fecha_mas_fria = df.iloc[np.where(temperatura == np.min(temperatura))[0][0]]['Fecha']\n",
    "fecha_mas_fria"
   ]
  },
  {
   "cell_type": "markdown",
   "id": "ff7d173c",
   "metadata": {},
   "source": [
    "### 6. Exportar los resultados a un nuevo archivo CSV."
   ]
  },
  {
   "cell_type": "code",
   "execution_count": 127,
   "id": "e0cdfaee",
   "metadata": {},
   "outputs": [],
   "source": [
    "resultados = {\n",
    "    'Metrica' : ['Temperatura Promedio', 'Precipitaciones Totales', 'Humedad Máxima', 'Fecha Más Calurosa', 'Fecha Más Fría'],\n",
    "    'Valor' : [temperatura_promedio, precipitaciones_totales, humedad_maxima, fecha_mas_calurosa, fecha_mas_fria]\n",
    "}\n",
    "\n",
    "df = pd.DataFrame(resultados)\n",
    "#df.to_csv('Resultados análisis metereológico.csv', index= False)"
   ]
  },
  {
   "cell_type": "code",
   "execution_count": null,
   "id": "5b2b1e76-332a-4514-90e2-bdb4d78c08e4",
   "metadata": {},
   "outputs": [],
   "source": []
  }
 ],
 "metadata": {
  "kernelspec": {
   "display_name": "Python 3 (ipykernel)",
   "language": "python",
   "name": "python3"
  },
  "language_info": {
   "codemirror_mode": {
    "name": "ipython",
    "version": 3
   },
   "file_extension": ".py",
   "mimetype": "text/x-python",
   "name": "python",
   "nbconvert_exporter": "python",
   "pygments_lexer": "ipython3",
   "version": "3.12.7"
  }
 },
 "nbformat": 4,
 "nbformat_minor": 5
}
